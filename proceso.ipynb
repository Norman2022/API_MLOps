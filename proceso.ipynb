{
 "cells": [
  {
   "cell_type": "code",
   "execution_count": 1,
   "metadata": {},
   "outputs": [],
   "source": [
    "from fastapi import FastAPI\n",
    "import pandas as pd\n",
    "from sklearn.metrics.pairwise import cosine_similarity\n",
    "from fastapi import FastAPI, HTTPException\n",
    "from fastapi.responses import JSONResponse"
   ]
  },
  {
   "cell_type": "code",
   "execution_count": 2,
   "metadata": {},
   "outputs": [],
   "source": [
    "#Leer Archivos\n",
    "df_items = pd.read_parquet('data_items.parquet')\n",
    "df_games = pd.read_parquet('data_games_explode.parquet')"
   ]
  },
  {
   "cell_type": "code",
   "execution_count": 13,
   "metadata": {},
   "outputs": [],
   "source": [
    "merged_df = pd.merge(df_games, df_items, on='item_id', how='inner')"
   ]
  },
  {
   "cell_type": "code",
   "execution_count": 14,
   "metadata": {},
   "outputs": [
    {
     "data": {
      "text/html": [
       "<div>\n",
       "<style scoped>\n",
       "    .dataframe tbody tr th:only-of-type {\n",
       "        vertical-align: middle;\n",
       "    }\n",
       "\n",
       "    .dataframe tbody tr th {\n",
       "        vertical-align: top;\n",
       "    }\n",
       "\n",
       "    .dataframe thead th {\n",
       "        text-align: right;\n",
       "    }\n",
       "</style>\n",
       "<table border=\"1\" class=\"dataframe\">\n",
       "  <thead>\n",
       "    <tr style=\"text-align: right;\">\n",
       "      <th></th>\n",
       "      <th>genres</th>\n",
       "      <th>release_date</th>\n",
       "      <th>item_id</th>\n",
       "      <th>user_id</th>\n",
       "      <th>playtime_forever</th>\n",
       "    </tr>\n",
       "  </thead>\n",
       "  <tbody>\n",
       "    <tr>\n",
       "      <th>0</th>\n",
       "      <td>action</td>\n",
       "      <td>1997-06-30</td>\n",
       "      <td>282010</td>\n",
       "      <td>UTNerd24</td>\n",
       "      <td>5.0</td>\n",
       "    </tr>\n",
       "    <tr>\n",
       "      <th>1</th>\n",
       "      <td>action</td>\n",
       "      <td>1997-06-30</td>\n",
       "      <td>282010</td>\n",
       "      <td>saint556</td>\n",
       "      <td>13.0</td>\n",
       "    </tr>\n",
       "    <tr>\n",
       "      <th>2</th>\n",
       "      <td>action</td>\n",
       "      <td>1997-06-30</td>\n",
       "      <td>282010</td>\n",
       "      <td>chidvd</td>\n",
       "      <td>110.0</td>\n",
       "    </tr>\n",
       "    <tr>\n",
       "      <th>3</th>\n",
       "      <td>action</td>\n",
       "      <td>1997-06-30</td>\n",
       "      <td>282010</td>\n",
       "      <td>aerpub</td>\n",
       "      <td>13.0</td>\n",
       "    </tr>\n",
       "    <tr>\n",
       "      <th>4</th>\n",
       "      <td>action</td>\n",
       "      <td>1997-06-30</td>\n",
       "      <td>282010</td>\n",
       "      <td>lucifer666678</td>\n",
       "      <td>8.0</td>\n",
       "    </tr>\n",
       "    <tr>\n",
       "      <th>...</th>\n",
       "      <td>...</td>\n",
       "      <td>...</td>\n",
       "      <td>...</td>\n",
       "      <td>...</td>\n",
       "      <td>...</td>\n",
       "    </tr>\n",
       "    <tr>\n",
       "      <th>6938755</th>\n",
       "      <td>action</td>\n",
       "      <td>2004-03-01</td>\n",
       "      <td>80</td>\n",
       "      <td>76561198208507532</td>\n",
       "      <td>203.0</td>\n",
       "    </tr>\n",
       "    <tr>\n",
       "      <th>6938756</th>\n",
       "      <td>action</td>\n",
       "      <td>2004-03-01</td>\n",
       "      <td>80</td>\n",
       "      <td>76561198221578852</td>\n",
       "      <td>244.0</td>\n",
       "    </tr>\n",
       "    <tr>\n",
       "      <th>6938757</th>\n",
       "      <td>action</td>\n",
       "      <td>2004-03-01</td>\n",
       "      <td>80</td>\n",
       "      <td>EnVyIsSmexy</td>\n",
       "      <td>7.0</td>\n",
       "    </tr>\n",
       "    <tr>\n",
       "      <th>6938758</th>\n",
       "      <td>action</td>\n",
       "      <td>2004-03-01</td>\n",
       "      <td>80</td>\n",
       "      <td>76561198283312749</td>\n",
       "      <td>9.0</td>\n",
       "    </tr>\n",
       "    <tr>\n",
       "      <th>6938759</th>\n",
       "      <td>action</td>\n",
       "      <td>2004-03-01</td>\n",
       "      <td>80</td>\n",
       "      <td>76561198312638244</td>\n",
       "      <td>99.0</td>\n",
       "    </tr>\n",
       "  </tbody>\n",
       "</table>\n",
       "<p>6938760 rows × 5 columns</p>\n",
       "</div>"
      ],
      "text/plain": [
       "         genres release_date item_id            user_id  playtime_forever\n",
       "0        action   1997-06-30  282010           UTNerd24               5.0\n",
       "1        action   1997-06-30  282010           saint556              13.0\n",
       "2        action   1997-06-30  282010             chidvd             110.0\n",
       "3        action   1997-06-30  282010             aerpub              13.0\n",
       "4        action   1997-06-30  282010      lucifer666678               8.0\n",
       "...         ...          ...     ...                ...               ...\n",
       "6938755  action   2004-03-01      80  76561198208507532             203.0\n",
       "6938756  action   2004-03-01      80  76561198221578852             244.0\n",
       "6938757  action   2004-03-01      80        EnVyIsSmexy               7.0\n",
       "6938758  action   2004-03-01      80  76561198283312749               9.0\n",
       "6938759  action   2004-03-01      80  76561198312638244              99.0\n",
       "\n",
       "[6938760 rows x 5 columns]"
      ]
     },
     "execution_count": 14,
     "metadata": {},
     "output_type": "execute_result"
    }
   ],
   "source": [
    "merged_df.drop(['item_name', 'title'], inplace=True, axis=1)\n",
    "merged_df"
   ]
  },
  {
   "cell_type": "code",
   "execution_count": 15,
   "metadata": {},
   "outputs": [],
   "source": [
    "merged_df = merged_df[merged_df.playtime_forever >= 2.0]"
   ]
  },
  {
   "cell_type": "code",
   "execution_count": 18,
   "metadata": {},
   "outputs": [],
   "source": [
    "merged_df.to_parquet('items_merged_games.parquet')"
   ]
  }
 ],
 "metadata": {
  "kernelspec": {
   "display_name": "venv",
   "language": "python",
   "name": "python3"
  },
  "language_info": {
   "codemirror_mode": {
    "name": "ipython",
    "version": 3
   },
   "file_extension": ".py",
   "mimetype": "text/x-python",
   "name": "python",
   "nbconvert_exporter": "python",
   "pygments_lexer": "ipython3",
   "version": "3.8.0"
  },
  "orig_nbformat": 4
 },
 "nbformat": 4,
 "nbformat_minor": 2
}
